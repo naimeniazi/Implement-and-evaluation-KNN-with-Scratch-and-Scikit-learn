{
 "cells": [
  {
   "cell_type": "code",
   "execution_count": 76,
   "id": "227ca409",
   "metadata": {},
   "outputs": [],
   "source": [
    "# Import Libreries\n",
    "\n",
    "import numpy as np\n",
    "import pandas as pd\n",
    "from sklearn.impute import KNNImputer\n",
    "from sklearn import preprocessing\n",
    "from sklearn.model_selection import train_test_split\n",
    "from mlxtend.plotting import plot_sequential_feature_selection as plot_sfs\n",
    "from sklearn.neighbors import KNeighborsClassifier\n",
    "import matplotlib.pyplot as plt\n",
    "from sklearn.metrics import confusion_matrix\n",
    "from sklearn.metrics import classification_report\n",
    "from sklearn.metrics import accuracy_score\n",
    "from sklearn.metrics import confusion_matrix\n",
    "import warnings\n",
    "warnings.filterwarnings('ignore')"
   ]
  },
  {
   "cell_type": "code",
   "execution_count": 3,
   "id": "048c9369",
   "metadata": {},
   "outputs": [],
   "source": [
    "# Load Dataset\n",
    "data = pd.read_csv('dataR2.csv', index_col=False)"
   ]
  },
  {
   "cell_type": "code",
   "execution_count": 4,
   "id": "a7cd28cf",
   "metadata": {},
   "outputs": [
    {
     "data": {
      "text/plain": [
       "(116, 10)"
      ]
     },
     "execution_count": 4,
     "metadata": {},
     "output_type": "execute_result"
    }
   ],
   "source": [
    "data.shape"
   ]
  },
  {
   "cell_type": "code",
   "execution_count": 5,
   "id": "0d5ba453",
   "metadata": {},
   "outputs": [
    {
     "name": "stdout",
     "output_type": "stream",
     "text": [
      "<class 'pandas.core.frame.DataFrame'>\n",
      "RangeIndex: 116 entries, 0 to 115\n",
      "Data columns (total 10 columns):\n",
      " #   Column          Non-Null Count  Dtype  \n",
      "---  ------          --------------  -----  \n",
      " 0   Age             116 non-null    int64  \n",
      " 1   BMI             116 non-null    float64\n",
      " 2   Glucose         116 non-null    int64  \n",
      " 3   Insulin         116 non-null    float64\n",
      " 4   HOMA            116 non-null    float64\n",
      " 5   Leptin          116 non-null    float64\n",
      " 6   Adiponectin     116 non-null    float64\n",
      " 7   Resistin        116 non-null    float64\n",
      " 8   MCP.1           116 non-null    float64\n",
      " 9   Classification  116 non-null    int64  \n",
      "dtypes: float64(7), int64(3)\n",
      "memory usage: 9.2 KB\n"
     ]
    }
   ],
   "source": [
    "data.info()"
   ]
  },
  {
   "cell_type": "code",
   "execution_count": 6,
   "id": "acbda4eb",
   "metadata": {},
   "outputs": [
    {
     "data": {
      "text/html": [
       "<div>\n",
       "<style scoped>\n",
       "    .dataframe tbody tr th:only-of-type {\n",
       "        vertical-align: middle;\n",
       "    }\n",
       "\n",
       "    .dataframe tbody tr th {\n",
       "        vertical-align: top;\n",
       "    }\n",
       "\n",
       "    .dataframe thead th {\n",
       "        text-align: right;\n",
       "    }\n",
       "</style>\n",
       "<table border=\"1\" class=\"dataframe\">\n",
       "  <thead>\n",
       "    <tr style=\"text-align: right;\">\n",
       "      <th></th>\n",
       "      <th>Age</th>\n",
       "      <th>BMI</th>\n",
       "      <th>Glucose</th>\n",
       "      <th>Insulin</th>\n",
       "      <th>HOMA</th>\n",
       "      <th>Leptin</th>\n",
       "      <th>Adiponectin</th>\n",
       "      <th>Resistin</th>\n",
       "      <th>MCP.1</th>\n",
       "      <th>Classification</th>\n",
       "    </tr>\n",
       "  </thead>\n",
       "  <tbody>\n",
       "    <tr>\n",
       "      <th>0</th>\n",
       "      <td>48</td>\n",
       "      <td>23.500000</td>\n",
       "      <td>70</td>\n",
       "      <td>2.707</td>\n",
       "      <td>0.467409</td>\n",
       "      <td>8.8071</td>\n",
       "      <td>9.702400</td>\n",
       "      <td>7.99585</td>\n",
       "      <td>417.114</td>\n",
       "      <td>1</td>\n",
       "    </tr>\n",
       "    <tr>\n",
       "      <th>1</th>\n",
       "      <td>83</td>\n",
       "      <td>20.690495</td>\n",
       "      <td>92</td>\n",
       "      <td>3.115</td>\n",
       "      <td>0.706897</td>\n",
       "      <td>8.8438</td>\n",
       "      <td>5.429285</td>\n",
       "      <td>4.06405</td>\n",
       "      <td>468.786</td>\n",
       "      <td>1</td>\n",
       "    </tr>\n",
       "    <tr>\n",
       "      <th>2</th>\n",
       "      <td>82</td>\n",
       "      <td>23.124670</td>\n",
       "      <td>91</td>\n",
       "      <td>4.498</td>\n",
       "      <td>1.009651</td>\n",
       "      <td>17.9393</td>\n",
       "      <td>22.432040</td>\n",
       "      <td>9.27715</td>\n",
       "      <td>554.697</td>\n",
       "      <td>1</td>\n",
       "    </tr>\n",
       "    <tr>\n",
       "      <th>3</th>\n",
       "      <td>68</td>\n",
       "      <td>21.367521</td>\n",
       "      <td>77</td>\n",
       "      <td>3.226</td>\n",
       "      <td>0.612725</td>\n",
       "      <td>9.8827</td>\n",
       "      <td>7.169560</td>\n",
       "      <td>12.76600</td>\n",
       "      <td>928.220</td>\n",
       "      <td>1</td>\n",
       "    </tr>\n",
       "    <tr>\n",
       "      <th>4</th>\n",
       "      <td>86</td>\n",
       "      <td>21.111111</td>\n",
       "      <td>92</td>\n",
       "      <td>3.549</td>\n",
       "      <td>0.805386</td>\n",
       "      <td>6.6994</td>\n",
       "      <td>4.819240</td>\n",
       "      <td>10.57635</td>\n",
       "      <td>773.920</td>\n",
       "      <td>1</td>\n",
       "    </tr>\n",
       "  </tbody>\n",
       "</table>\n",
       "</div>"
      ],
      "text/plain": [
       "   Age        BMI  Glucose  Insulin      HOMA   Leptin  Adiponectin  Resistin  \\\n",
       "0   48  23.500000       70    2.707  0.467409   8.8071     9.702400   7.99585   \n",
       "1   83  20.690495       92    3.115  0.706897   8.8438     5.429285   4.06405   \n",
       "2   82  23.124670       91    4.498  1.009651  17.9393    22.432040   9.27715   \n",
       "3   68  21.367521       77    3.226  0.612725   9.8827     7.169560  12.76600   \n",
       "4   86  21.111111       92    3.549  0.805386   6.6994     4.819240  10.57635   \n",
       "\n",
       "     MCP.1  Classification  \n",
       "0  417.114               1  \n",
       "1  468.786               1  \n",
       "2  554.697               1  \n",
       "3  928.220               1  \n",
       "4  773.920               1  "
      ]
     },
     "execution_count": 6,
     "metadata": {},
     "output_type": "execute_result"
    }
   ],
   "source": [
    "data.head(5)"
   ]
  },
  {
   "cell_type": "code",
   "execution_count": 7,
   "id": "33467013",
   "metadata": {},
   "outputs": [],
   "source": [
    "# Data Preprocessing"
   ]
  },
  {
   "cell_type": "code",
   "execution_count": 11,
   "id": "50de04c5",
   "metadata": {},
   "outputs": [],
   "source": [
    "# To check the null values"
   ]
  },
  {
   "cell_type": "code",
   "execution_count": 12,
   "id": "628f845e",
   "metadata": {},
   "outputs": [],
   "source": [
    "def checkna(data):\n",
    "    missing_values = data.isna().sum().reset_index()\n",
    "    missing_values.columns = [\"Features\", \"Missing_Values\"]\n",
    "    missing_values[\"Missing_Percent\"]= round(missing_values.Missing_Values/len(data)*100,2)\n",
    "    return missing_values[missing_values.Missing_Values > 0 ]"
   ]
  },
  {
   "cell_type": "code",
   "execution_count": 13,
   "id": "e1393126",
   "metadata": {},
   "outputs": [
    {
     "data": {
      "text/html": [
       "<div>\n",
       "<style scoped>\n",
       "    .dataframe tbody tr th:only-of-type {\n",
       "        vertical-align: middle;\n",
       "    }\n",
       "\n",
       "    .dataframe tbody tr th {\n",
       "        vertical-align: top;\n",
       "    }\n",
       "\n",
       "    .dataframe thead th {\n",
       "        text-align: right;\n",
       "    }\n",
       "</style>\n",
       "<table border=\"1\" class=\"dataframe\">\n",
       "  <thead>\n",
       "    <tr style=\"text-align: right;\">\n",
       "      <th></th>\n",
       "      <th>Features</th>\n",
       "      <th>Missing_Values</th>\n",
       "      <th>Missing_Percent</th>\n",
       "    </tr>\n",
       "  </thead>\n",
       "  <tbody>\n",
       "  </tbody>\n",
       "</table>\n",
       "</div>"
      ],
      "text/plain": [
       "Empty DataFrame\n",
       "Columns: [Features, Missing_Values, Missing_Percent]\n",
       "Index: []"
      ]
     },
     "execution_count": 13,
     "metadata": {},
     "output_type": "execute_result"
    }
   ],
   "source": [
    "checkna(data)"
   ]
  },
  {
   "cell_type": "code",
   "execution_count": 14,
   "id": "d9b69ddb",
   "metadata": {},
   "outputs": [],
   "source": [
    "#To fill null values with mean"
   ]
  },
  {
   "cell_type": "code",
   "execution_count": 15,
   "id": "bb535753",
   "metadata": {},
   "outputs": [],
   "source": [
    "imputer = SimpleImputer(strategy=\"mean\")\n",
    "data = pd.DataFrame(imputer.fit_transform(data),columns = data.columns)"
   ]
  },
  {
   "cell_type": "code",
   "execution_count": 16,
   "id": "a73a8760",
   "metadata": {},
   "outputs": [
    {
     "data": {
      "text/html": [
       "<div>\n",
       "<style scoped>\n",
       "    .dataframe tbody tr th:only-of-type {\n",
       "        vertical-align: middle;\n",
       "    }\n",
       "\n",
       "    .dataframe tbody tr th {\n",
       "        vertical-align: top;\n",
       "    }\n",
       "\n",
       "    .dataframe thead th {\n",
       "        text-align: right;\n",
       "    }\n",
       "</style>\n",
       "<table border=\"1\" class=\"dataframe\">\n",
       "  <thead>\n",
       "    <tr style=\"text-align: right;\">\n",
       "      <th></th>\n",
       "      <th>Features</th>\n",
       "      <th>Missing_Values</th>\n",
       "      <th>Missing_Percent</th>\n",
       "    </tr>\n",
       "  </thead>\n",
       "  <tbody>\n",
       "  </tbody>\n",
       "</table>\n",
       "</div>"
      ],
      "text/plain": [
       "Empty DataFrame\n",
       "Columns: [Features, Missing_Values, Missing_Percent]\n",
       "Index: []"
      ]
     },
     "execution_count": 16,
     "metadata": {},
     "output_type": "execute_result"
    }
   ],
   "source": [
    "checkna(data)"
   ]
  },
  {
   "cell_type": "code",
   "execution_count": 17,
   "id": "49c7f6bb",
   "metadata": {},
   "outputs": [],
   "source": [
    "# Normalization"
   ]
  },
  {
   "cell_type": "code",
   "execution_count": 19,
   "id": "63994bcf",
   "metadata": {},
   "outputs": [],
   "source": [
    "scaler = preprocessing.MinMaxScaler()\n",
    "data= pd.DataFrame(scaler.fit_transform(data),columns = data.columns)"
   ]
  },
  {
   "cell_type": "code",
   "execution_count": 20,
   "id": "aeb53882",
   "metadata": {},
   "outputs": [
    {
     "data": {
      "text/html": [
       "<div>\n",
       "<style scoped>\n",
       "    .dataframe tbody tr th:only-of-type {\n",
       "        vertical-align: middle;\n",
       "    }\n",
       "\n",
       "    .dataframe tbody tr th {\n",
       "        vertical-align: top;\n",
       "    }\n",
       "\n",
       "    .dataframe thead th {\n",
       "        text-align: right;\n",
       "    }\n",
       "</style>\n",
       "<table border=\"1\" class=\"dataframe\">\n",
       "  <thead>\n",
       "    <tr style=\"text-align: right;\">\n",
       "      <th></th>\n",
       "      <th>Age</th>\n",
       "      <th>BMI</th>\n",
       "      <th>Glucose</th>\n",
       "      <th>Insulin</th>\n",
       "      <th>HOMA</th>\n",
       "      <th>Leptin</th>\n",
       "      <th>Adiponectin</th>\n",
       "      <th>Resistin</th>\n",
       "      <th>MCP.1</th>\n",
       "      <th>Classification</th>\n",
       "    </tr>\n",
       "  </thead>\n",
       "  <tbody>\n",
       "    <tr>\n",
       "      <th>0</th>\n",
       "      <td>0.369231</td>\n",
       "      <td>0.253850</td>\n",
       "      <td>0.070922</td>\n",
       "      <td>0.004908</td>\n",
       "      <td>0.000000</td>\n",
       "      <td>0.052299</td>\n",
       "      <td>0.221152</td>\n",
       "      <td>0.060665</td>\n",
       "      <td>0.224659</td>\n",
       "      <td>0.0</td>\n",
       "    </tr>\n",
       "    <tr>\n",
       "      <th>1</th>\n",
       "      <td>0.907692</td>\n",
       "      <td>0.114826</td>\n",
       "      <td>0.226950</td>\n",
       "      <td>0.012190</td>\n",
       "      <td>0.009742</td>\n",
       "      <td>0.052726</td>\n",
       "      <td>0.103707</td>\n",
       "      <td>0.010826</td>\n",
       "      <td>0.255926</td>\n",
       "      <td>0.0</td>\n",
       "    </tr>\n",
       "    <tr>\n",
       "      <th>2</th>\n",
       "      <td>0.892308</td>\n",
       "      <td>0.235278</td>\n",
       "      <td>0.219858</td>\n",
       "      <td>0.036874</td>\n",
       "      <td>0.022058</td>\n",
       "      <td>0.158526</td>\n",
       "      <td>0.571021</td>\n",
       "      <td>0.076906</td>\n",
       "      <td>0.307912</td>\n",
       "      <td>0.0</td>\n",
       "    </tr>\n",
       "    <tr>\n",
       "      <th>3</th>\n",
       "      <td>0.676923</td>\n",
       "      <td>0.148328</td>\n",
       "      <td>0.120567</td>\n",
       "      <td>0.014171</td>\n",
       "      <td>0.005911</td>\n",
       "      <td>0.064811</td>\n",
       "      <td>0.151538</td>\n",
       "      <td>0.121131</td>\n",
       "      <td>0.533934</td>\n",
       "      <td>0.0</td>\n",
       "    </tr>\n",
       "    <tr>\n",
       "      <th>4</th>\n",
       "      <td>0.953846</td>\n",
       "      <td>0.135640</td>\n",
       "      <td>0.226950</td>\n",
       "      <td>0.019936</td>\n",
       "      <td>0.013748</td>\n",
       "      <td>0.027782</td>\n",
       "      <td>0.086940</td>\n",
       "      <td>0.093375</td>\n",
       "      <td>0.440565</td>\n",
       "      <td>0.0</td>\n",
       "    </tr>\n",
       "  </tbody>\n",
       "</table>\n",
       "</div>"
      ],
      "text/plain": [
       "        Age       BMI   Glucose   Insulin      HOMA    Leptin  Adiponectin  \\\n",
       "0  0.369231  0.253850  0.070922  0.004908  0.000000  0.052299     0.221152   \n",
       "1  0.907692  0.114826  0.226950  0.012190  0.009742  0.052726     0.103707   \n",
       "2  0.892308  0.235278  0.219858  0.036874  0.022058  0.158526     0.571021   \n",
       "3  0.676923  0.148328  0.120567  0.014171  0.005911  0.064811     0.151538   \n",
       "4  0.953846  0.135640  0.226950  0.019936  0.013748  0.027782     0.086940   \n",
       "\n",
       "   Resistin     MCP.1  Classification  \n",
       "0  0.060665  0.224659             0.0  \n",
       "1  0.010826  0.255926             0.0  \n",
       "2  0.076906  0.307912             0.0  \n",
       "3  0.121131  0.533934             0.0  \n",
       "4  0.093375  0.440565             0.0  "
      ]
     },
     "execution_count": 20,
     "metadata": {},
     "output_type": "execute_result"
    }
   ],
   "source": [
    "data.head()"
   ]
  },
  {
   "cell_type": "code",
   "execution_count": 21,
   "id": "f8cef5dd",
   "metadata": {},
   "outputs": [],
   "source": [
    "# Define target"
   ]
  },
  {
   "cell_type": "code",
   "execution_count": 50,
   "id": "ae748ca6",
   "metadata": {},
   "outputs": [],
   "source": [
    "X =data.drop(columns=[\"Classification\"]).values\n",
    "y =data.Classification.values"
   ]
  },
  {
   "cell_type": "code",
   "execution_count": 51,
   "id": "4ad71c2b",
   "metadata": {},
   "outputs": [],
   "source": [
    "# Split data to train&Validation"
   ]
  },
  {
   "cell_type": "code",
   "execution_count": 52,
   "id": "83c5b6aa",
   "metadata": {},
   "outputs": [],
   "source": [
    "X_train, X_test, y_train, y_test = train_test_split(X, y, test_size=0.20, random_state=42)"
   ]
  },
  {
   "cell_type": "code",
   "execution_count": 53,
   "id": "bfd6d1fb",
   "metadata": {},
   "outputs": [],
   "source": [
    "# KNN- Implementation from sklearn"
   ]
  },
  {
   "cell_type": "code",
   "execution_count": 54,
   "id": "0d4cd335",
   "metadata": {},
   "outputs": [],
   "source": [
    "# Choose best K"
   ]
  },
  {
   "cell_type": "code",
   "execution_count": 55,
   "id": "6f762d4c",
   "metadata": {},
   "outputs": [
    {
     "name": "stdout",
     "output_type": "stream",
     "text": [
      "Minimum error:- 0.16666666666666666 at K = 0\n"
     ]
    },
    {
     "data": {
      "image/png": "[encoded data removed]",
      "text/plain": [
       "<Figure size 720x432 with 1 Axes>"
      ]
     },
     "metadata": {
      "needs_background": "light"
     },
     "output_type": "display_data"
    }
   ],
   "source": [
    "error_rate = []\n",
    "for i in range(1,50):\n",
    "    knn = KNeighborsClassifier(n_neighbors=i)\n",
    "    knn.fit(X_train,y_train)\n",
    "    pred_i = knn.predict(X_test)\n",
    "    error_rate.append(np.mean(pred_i != y_test))\n",
    "\n",
    "plt.figure(figsize=(10,6))\n",
    "plt.plot(range(1,50),error_rate,color='grey', linestyle='dashed', \n",
    "         marker='o',markerfacecolor='pink', markersize=10)\n",
    "plt.title('Error Rate vs. K Value')\n",
    "plt.xlabel('K')\n",
    "plt.ylabel('Error Rate')\n",
    "print(\"Minimum error:-\",min(error_rate),\"at K =\",error_rate.index(min(error_rate)))"
   ]
  },
  {
   "cell_type": "code",
   "execution_count": 72,
   "id": "d461335f",
   "metadata": {},
   "outputs": [
    {
     "data": {
      "text/plain": [
       "KNeighborsClassifier(n_neighbors=8)"
      ]
     },
     "execution_count": 72,
     "metadata": {},
     "output_type": "execute_result"
    }
   ],
   "source": [
    "model = KNeighborsClassifier(n_neighbors=8)\n",
    "model.fit(X_train, y_train)"
   ]
  },
  {
   "cell_type": "code",
   "execution_count": 73,
   "id": "6d5689ee",
   "metadata": {},
   "outputs": [],
   "source": [
    "#Evaluation"
   ]
  },
  {
   "cell_type": "code",
   "execution_count": 74,
   "id": "3c45b616",
   "metadata": {},
   "outputs": [],
   "source": [
    "y_pred = model.predict(X_test)"
   ]
  },
  {
   "cell_type": "code",
   "execution_count": 75,
   "id": "0cc4fad2",
   "metadata": {},
   "outputs": [
    {
     "name": "stdout",
     "output_type": "stream",
     "text": [
      "              precision    recall  f1-score   support\n",
      "\n",
      "         0.0       0.79      0.92      0.85        12\n",
      "         1.0       0.90      0.75      0.82        12\n",
      "\n",
      "    accuracy                           0.83        24\n",
      "   macro avg       0.84      0.83      0.83        24\n",
      "weighted avg       0.84      0.83      0.83        24\n",
      "\n"
     ]
    }
   ],
   "source": [
    "cr= classification_report(y_test, y_pred)\n",
    "print(cr)"
   ]
  },
  {
   "cell_type": "code",
   "execution_count": 60,
   "id": "c3a11c5a",
   "metadata": {},
   "outputs": [],
   "source": [
    "# KNN- Implementation from scratch"
   ]
  },
  {
   "cell_type": "code",
   "execution_count": 65,
   "id": "58893400",
   "metadata": {},
   "outputs": [],
   "source": [
    "class BruteForceKNN:\n",
    "    \"\"\"\n",
    "    Methods:\n",
    "    -------\n",
    "    fit: Calculate distances and ranks based on given data\n",
    "    predict: Predict the K nearest self.neighbors based on problem type\n",
    "    \"\"\" \n",
    "    import numpy as np\n",
    "    from scipy import stats\n",
    "\n",
    "\n",
    "    def __init__(self, k, problem: int=0, metric: int=0):\n",
    "        \"\"\"\n",
    "            Parameters\n",
    "            ----------\n",
    "            k: Number of nearest self.neighbors\n",
    "            problem: Type of learning\n",
    "            0 = Regression, 1 = Classification\n",
    "            metric: Distance metric to be used. \n",
    "            0 = Euclidean, 1 = Manhattan\n",
    "        \"\"\"\n",
    "        self.k = k\n",
    "        self.problem = problem\n",
    "        self.metric = metric\n",
    "\n",
    "    def fit(self, X_train, y_train):\n",
    "        self.X_train = X_train\n",
    "        self.y_train = y_train\n",
    "\n",
    "    def predict(self, X1_test):\n",
    "        import numpy as np\n",
    "        from scipy import stats\n",
    "\n",
    "        m = self.X_train.shape[0]\n",
    "        n = X_test.shape[0]\n",
    "        y_pred = []\n",
    "\n",
    "        # Calculating distances  \n",
    "        for i in range(n):  # for every sample in X_test\n",
    "            distance = []  # To store the distances\n",
    "            for j in range(m):  # for every sample in X_train\n",
    "                if self.metric == 0:\n",
    "                    d = (np.sqrt(np.sum(np.square(X_test[i,:] - self.X_train[j,:]))))  # Euclidean distance\n",
    "                else:\n",
    "                    d = (np.absolute(X_test[i, :] - self.X_train[j,:]))  # Manhattan distance\n",
    "                distance.append((d, y_train[j]))    \n",
    "            distance = sorted(distance) # sorting distances in ascending order\n",
    "\n",
    "            # Getting k nearest neighbors\n",
    "            neighbors = []\n",
    "            for item in range(self.k):\n",
    "                neighbors.append(distance[item][1])  # appending K nearest neighbors\n",
    "\n",
    "            # Making predictions\n",
    "            if self.problem == 0:\n",
    "                y_pred.append(np.mean(neighbors))  # For Regression\n",
    "            else:\n",
    "                y_pred.append(stats.mode(neighbors)[0][0])  # For Classification\n",
    "        return y_pred"
   ]
  },
  {
   "cell_type": "code",
   "execution_count": 66,
   "id": "6dfdc32f",
   "metadata": {},
   "outputs": [],
   "source": [
    "#fitt Scratch with best K\n",
    "bknn = BruteForceKNN(k=8, problem=1, metric=0)\n",
    "# model fitting\n",
    "bknn.fit(X_train, y_train)\n",
    "# predicting\n",
    "b_y_pred = bknn.predict(X_test)"
   ]
  },
  {
   "cell_type": "code",
   "execution_count": 67,
   "id": "f3d41b13",
   "metadata": {
    "scrolled": true
   },
   "outputs": [
    {
     "name": "stdout",
     "output_type": "stream",
     "text": [
      "              precision    recall  f1-score   support\n",
      "\n",
      "         0.0       0.79      0.92      0.85        12\n",
      "         1.0       0.90      0.75      0.82        12\n",
      "\n",
      "    accuracy                           0.83        24\n",
      "   macro avg       0.84      0.83      0.83        24\n",
      "weighted avg       0.84      0.83      0.83        24\n",
      "\n"
     ]
    }
   ],
   "source": [
    "cr1= classification_report(y_test, b_y_pred)\n",
    "print(cr1)"
   ]
  },
  {
   "cell_type": "code",
   "execution_count": null,
   "id": "6f7536b0",
   "metadata": {},
   "outputs": [],
   "source": [
    "# As you see in this dataset, two model make same results."
   ]
  }
 ],
 "metadata": {
  "kernelspec": {
   "display_name": "Python 3",
   "language": "python",
   "name": "python3"
  },
  "language_info": {
   "codemirror_mode": {
    "name": "ipython",
    "version": 3
   },
   "file_extension": ".py",
   "mimetype": "text/x-python",
   "name": "python",
   "nbconvert_exporter": "python",
   "pygments_lexer": "ipython3",
   "version": "3.8.8"
  }
 },
 "nbformat": 4,
 "nbformat_minor": 5
}
